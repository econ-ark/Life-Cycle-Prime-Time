{
 "cells": [
  {
   "cell_type": "markdown",
   "id": "5e0f82fc-2aa1-40a0-abb2-c8a44c46325a",
   "metadata": {},
   "source": [
    "We can solve exactly for the point at which the bequest motive becomes operative, because that is the point where the bequest $b$ is equal to zero so that $c=m$ but the marginal value of bequeathing is equal to the marginal value of consumption.  Calling $\\acute{b}$ the bequest shifter."
   ]
  },
  {
   "cell_type": "markdown",
   "id": "ab503715-ad02-4be4-9c37-0acddc35d779",
   "metadata": {},
   "source": [
    "\\begin{align}\n",
    "\\bar{m}^{-\\rho} = & \\hat{\\beta}(\\acute{b})^{-\\rho}\n",
    "\\\\ \\bar{m} = & \\hat{\\beta}^{-1/\\rho} \\acute{b}\n",
    "\\end{align}"
   ]
  },
  {
   "cell_type": "markdown",
   "id": "6a7f8c24-a264-4c64-b1d7-a6daf23d3969",
   "metadata": {},
   "source": [
    "Now suppose we consider a marginal increment to $m$ of size $\\epsilon$ and assume the consumer has an (optimal) MPC out of this $\\epsilon$ of $\\kappa$.  Calling `BeqFac` $\\hat{\\beta}$ and for convenience assuming the return factor is $R=1$, "
   ]
  },
  {
   "cell_type": "markdown",
   "id": "c5845b1b-78ae-49fe-b5af-2784e67e1126",
   "metadata": {},
   "source": [
    "\\begin{align}\n",
    "\\text{marginal utility of c} & = \\text{marginal utility of b} \\\\\n",
    "(\\bar{m}+\\epsilon\\kappa)^{-\\rho} = & \\hat{\\beta}(\\acute{b}+\\epsilon(1-\\kappa))^{-\\rho}\n",
    "\\end{align} "
   ]
  },
  {
   "cell_type": "markdown",
   "id": "d0f3b303-1d3b-4fdf-b44b-272c57259066",
   "metadata": {},
   "source": [
    "We can approximate the expressions on the two sides with:\n",
    "\\begin{align}\n",
    "\\\\ (\\bar{m}+\\epsilon\\kappa)^{-\\rho} \\approx & \\bar{m}^{-\\rho}-\\rho(\\epsilon(1-\\kappa))\n",
    "\\\\ (\\acute{b}+\\epsilon(1-\\kappa))^{-\\rho} \\approx & (\\acute{b})^{-\\rho}-\\rho(1-\\kappa)\\epsilon\n",
    "\\end{align}"
   ]
  },
  {
   "cell_type": "markdown",
   "id": "9b3b0afa-7649-47a7-89a3-50e10fbe029f",
   "metadata": {},
   "source": [
    "Substituting the approximations and using the fact that at $m=\\bar{m}$, $ \\hat{\\beta}^{-1/\\rho} \\acute{b}$, this simplifies to\n",
    "\n",
    "\\begin{align}\n",
    "-\\rho(\\epsilon(1-\\kappa)) = & -\\rho(1-\\kappa)\\epsilon\\hat{\\beta}^{-1/\\rho}\n",
    "\\\\ \\kappa = & \\hat{\\beta}^{-1/\\rho}(1-\\kappa)\n",
    "\\\\ \\kappa (1+\\hat{\\beta}^{-1/\\rho}) = & \\hat{\\beta}^{-1/\\rho}\n",
    "\\\\ \\kappa \\approx & \\frac{\\hat{\\beta}^{-1/\\rho}} {(1+\\hat{\\beta}^{-1/\\rho})}\n",
    "\\end{align}"
   ]
  },
  {
   "cell_type": "markdown",
   "id": "fe6acee4-9102-4734-8b6c-3803ba222115",
   "metadata": {
    "tags": []
   },
   "source": [
    "So for $\\hat{\\beta}=6000$ and $\\rho=4$,$\\hat{\\beta}^{-1/\\rho} = 0.11$ so we should have $\\kappa=0.11/1.11)$ or roughly 0.1, or a _marginal propensity to bequeath_ that jumps from 0 to 0.9 at the cusp point.  That seems rather extreme, but whether it is extreme enough to doubt the model's formulation is unclear.\n"
   ]
  },
  {
   "cell_type": "code",
   "execution_count": 2,
   "id": "82a64e40-c6a8-4f83-8b97-8a023cf4d277",
   "metadata": {},
   "outputs": [
    {
     "data": {
      "text/plain": [
       "0.5983651431884155"
      ]
     },
     "execution_count": 2,
     "metadata": {},
     "output_type": "execute_result"
    }
   ],
   "source": [
    "BeqFac=8000\n",
    "CRRA=17.5\n",
    "\n",
    "betahatinv=BeqFac**(-1/CRRA)\n",
    "betahatinv"
   ]
  },
  {
   "cell_type": "code",
   "execution_count": 3,
   "id": "0d845d83-4e76-460a-8401-253a038587d9",
   "metadata": {},
   "outputs": [],
   "source": [
    "kappa=betahatinv/(1+betahatinv)"
   ]
  },
  {
   "cell_type": "code",
   "execution_count": 5,
   "id": "090791a1-99b7-4ad0-a439-9cb5b840bad9",
   "metadata": {},
   "outputs": [
    {
     "data": {
      "text/plain": [
       "37.0617123553414"
      ]
     },
     "execution_count": 5,
     "metadata": {},
     "output_type": "execute_result"
    }
   ],
   "source": [
    "kappa*99"
   ]
  },
  {
   "cell_type": "code",
   "execution_count": null,
   "id": "47aba5f2-6b0f-42b3-b073-3b210b4b288f",
   "metadata": {},
   "outputs": [],
   "source": []
  }
 ],
 "metadata": {
  "kernelspec": {
   "display_name": "Python 3 (ipykernel)",
   "language": "python",
   "name": "python3"
  },
  "language_info": {
   "codemirror_mode": {
    "name": "ipython",
    "version": 3
   },
   "file_extension": ".py",
   "mimetype": "text/x-python",
   "name": "python",
   "nbconvert_exporter": "python",
   "pygments_lexer": "ipython3",
   "version": "3.10.10"
  }
 },
 "nbformat": 4,
 "nbformat_minor": 5
}
